{
  "nbformat": 4,
  "nbformat_minor": 0,
  "metadata": {
    "colab": {
      "provenance": []
    },
    "kernelspec": {
      "name": "ir",
      "display_name": "R"
    },
    "language_info": {
      "name": "R"
    }
  },
  "cells": [
    {
      "cell_type": "markdown",
      "source": [
        "# ***LightGBM***"
      ],
      "metadata": {
        "id": "ockjGksHEOWF"
      }
    },
    {
      "cell_type": "code",
      "source": [
        "install.packages(\"data.table\")"
      ],
      "metadata": {
        "colab": {
          "base_uri": "https://localhost:8080/"
        },
        "id": "RhLnMnTxESof",
        "outputId": "11e1a482-8212-4e63-a5ba-6aff603a69ef"
      },
      "execution_count": null,
      "outputs": [
        {
          "output_type": "stream",
          "name": "stderr",
          "text": [
            "Installing package into ‘/usr/local/lib/R/site-library’\n",
            "(as ‘lib’ is unspecified)\n",
            "\n"
          ]
        }
      ]
    },
    {
      "cell_type": "code",
      "source": [
        "install.packages(\"rlist\")"
      ],
      "metadata": {
        "colab": {
          "base_uri": "https://localhost:8080/"
        },
        "id": "9YFVc4ruEdxW",
        "outputId": "5d5828d9-c4ee-43a5-f4c0-32074ca2a67e"
      },
      "execution_count": null,
      "outputs": [
        {
          "output_type": "stream",
          "name": "stderr",
          "text": [
            "Installing package into ‘/usr/local/lib/R/site-library’\n",
            "(as ‘lib’ is unspecified)\n",
            "\n",
            "also installing the dependency ‘XML’\n",
            "\n",
            "\n"
          ]
        }
      ]
    },
    {
      "cell_type": "code",
      "source": [
        "install.packages(\"DiceKriging\")"
      ],
      "metadata": {
        "colab": {
          "base_uri": "https://localhost:8080/"
        },
        "id": "GsoGx9JgGlGF",
        "outputId": "97af2637-e4cc-4794-fc7c-3cc9875dffc1"
      },
      "execution_count": null,
      "outputs": [
        {
          "output_type": "stream",
          "name": "stderr",
          "text": [
            "Installing package into ‘/usr/local/lib/R/site-library’\n",
            "(as ‘lib’ is unspecified)\n",
            "\n"
          ]
        }
      ]
    },
    {
      "cell_type": "code",
      "source": [
        "install.packages(\"mlrMBO\")"
      ],
      "metadata": {
        "colab": {
          "base_uri": "https://localhost:8080/"
        },
        "id": "mCf-IRbQGoO9",
        "outputId": "41e842bd-689c-4dea-9c05-cd861a7dfb0b"
      },
      "execution_count": null,
      "outputs": [
        {
          "output_type": "stream",
          "name": "stderr",
          "text": [
            "Installing package into ‘/usr/local/lib/R/site-library’\n",
            "(as ‘lib’ is unspecified)\n",
            "\n",
            "also installing the dependencies ‘fastmatch’, ‘Rcpp’, ‘RcppArmadillo’, ‘mlr’, ‘ParamHelpers’, ‘smoof’, ‘BBmisc’, ‘checkmate’, ‘lhs’, ‘parallelMap’\n",
            "\n",
            "\n"
          ]
        }
      ]
    },
    {
      "cell_type": "code",
      "source": [
        "install.packages(\"R6\")"
      ],
      "metadata": {
        "colab": {
          "base_uri": "https://localhost:8080/"
        },
        "id": "vF5TkBOwIYi1",
        "outputId": "decc3100-7251-4a03-c191-45b0ed6bb458"
      },
      "execution_count": null,
      "outputs": [
        {
          "output_type": "stream",
          "name": "stderr",
          "text": [
            "Installing package into ‘/usr/local/lib/R/site-library’\n",
            "(as ‘lib’ is unspecified)\n",
            "\n"
          ]
        }
      ]
    },
    {
      "cell_type": "code",
      "source": [
        "install.packages(\"lightgbm\")"
      ],
      "metadata": {
        "colab": {
          "base_uri": "https://localhost:8080/"
        },
        "id": "Eak8vvFXIcVM",
        "outputId": "1d2ecd4b-4fcb-46d8-d67e-a6e76c6ee3a9"
      },
      "execution_count": null,
      "outputs": [
        {
          "output_type": "stream",
          "name": "stderr",
          "text": [
            "Installing package into ‘/usr/local/lib/R/site-library’\n",
            "(as ‘lib’ is unspecified)\n",
            "\n"
          ]
        }
      ]
    },
    {
      "cell_type": "code",
      "source": [
        "# para correr el Google Cloud\n",
        "#   8 vCPU\n",
        "#  16 GB memoria RAM\n",
        "\n",
        "# limpio la memoria\n",
        "rm(list = ls()) # remove all objects\n",
        "gc() # garbage collection"
      ],
      "metadata": {
        "colab": {
          "base_uri": "https://localhost:8080/",
          "height": 129
        },
        "id": "OuV7Rl7UGoUa",
        "outputId": "8bfc4a2b-beff-4941-8e44-70a896d2ca8d"
      },
      "execution_count": null,
      "outputs": [
        {
          "output_type": "display_data",
          "data": {
            "text/html": [
              "<table class=\"dataframe\">\n",
              "<caption>A matrix: 2 × 6 of type dbl</caption>\n",
              "<thead>\n",
              "\t<tr><th></th><th scope=col>used</th><th scope=col>(Mb)</th><th scope=col>gc trigger</th><th scope=col>(Mb)</th><th scope=col>max used</th><th scope=col>(Mb)</th></tr>\n",
              "</thead>\n",
              "<tbody>\n",
              "\t<tr><th scope=row>Ncells</th><td> 866882</td><td>46.3</td><td>1413002</td><td>75.5</td><td>1413002</td><td>75.5</td></tr>\n",
              "\t<tr><th scope=row>Vcells</th><td>1602209</td><td>12.3</td><td>8388608</td><td>64.0</td><td>8385102</td><td>64.0</td></tr>\n",
              "</tbody>\n",
              "</table>\n"
            ],
            "text/markdown": "\nA matrix: 2 × 6 of type dbl\n\n| <!--/--> | used | (Mb) | gc trigger | (Mb) | max used | (Mb) |\n|---|---|---|---|---|---|---|\n| Ncells |  866882 | 46.3 | 1413002 | 75.5 | 1413002 | 75.5 |\n| Vcells | 1602209 | 12.3 | 8388608 | 64.0 | 8385102 | 64.0 |\n\n",
            "text/latex": "A matrix: 2 × 6 of type dbl\n\\begin{tabular}{r|llllll}\n  & used & (Mb) & gc trigger & (Mb) & max used & (Mb)\\\\\n\\hline\n\tNcells &  866882 & 46.3 & 1413002 & 75.5 & 1413002 & 75.5\\\\\n\tVcells & 1602209 & 12.3 & 8388608 & 64.0 & 8385102 & 64.0\\\\\n\\end{tabular}\n",
            "text/plain": [
              "       used    (Mb) gc trigger (Mb) max used (Mb)\n",
              "Ncells  866882 46.3 1413002    75.5 1413002  75.5\n",
              "Vcells 1602209 12.3 8388608    64.0 8385102  64.0"
            ]
          },
          "metadata": {}
        }
      ]
    },
    {
      "cell_type": "code",
      "source": [
        "require(\"lightgbm\")"
      ],
      "metadata": {
        "id": "76iSOjqlIQFU",
        "colab": {
          "base_uri": "https://localhost:8080/"
        },
        "outputId": "2302a54e-0f07-422d-9255-21111a2a4095"
      },
      "execution_count": null,
      "outputs": [
        {
          "output_type": "stream",
          "name": "stderr",
          "text": [
            "Loading required package: lightgbm\n",
            "\n",
            "Loading required package: R6\n",
            "\n"
          ]
        }
      ]
    },
    {
      "cell_type": "code",
      "source": [
        "require(\"data.table\")"
      ],
      "metadata": {
        "id": "6vGrZ8_LKDS5",
        "colab": {
          "base_uri": "https://localhost:8080/"
        },
        "outputId": "df39e5ac-22a3-49bc-d811-bb6f73900233"
      },
      "execution_count": null,
      "outputs": [
        {
          "output_type": "stream",
          "name": "stderr",
          "text": [
            "Loading required package: data.table\n",
            "\n"
          ]
        }
      ]
    },
    {
      "cell_type": "code",
      "source": [
        "# defino los parametros de la corrida, en una lista, la variable global  PARAM\n",
        "#  muy pronto esto se leera desde un archivo formato .yaml\n",
        "PARAM <- list()\n",
        "PARAM$experimento <- \"KA5240\"\n",
        "\n",
        "PARAM$input$dataset <- \"ahora_si.csv\""
      ],
      "metadata": {
        "id": "P4MvukRvKEJ5"
      },
      "execution_count": null,
      "outputs": []
    },
    {
      "cell_type": "code",
      "source": [
        "# meses donde se entrena el modelo\n",
        "PARAM$input$training <- c(202012,202101,202102,202103,202104,202105)\n",
        "PARAM$input$future <- c(202107) # meses donde se aplica el modelo\n",
        "\n",
        "PARAM$finalmodel$semilla <- 300779\n",
        "\n",
        "PARAM$finalmodel$num_iterations <- 4928\n",
        "PARAM$finalmodel$learning_rate <- 0.0189943331895954\n",
        "PARAM$finalmodel$feature_fraction <- 0.892623977897483\n",
        "PARAM$finalmodel$min_data_in_leaf <- 785\n",
        "PARAM$finalmodel$num_leaves <- 666\n",
        "\n",
        "\n",
        "PARAM$finalmodel$max_bin <- 31\n",
        "\n",
        "#------------------------------------------------------------------------------\n",
        "#------------------------------------------------------------------------------"
      ],
      "metadata": {
        "id": "yqzGRfbtKN3H"
      },
      "execution_count": null,
      "outputs": []
    },
    {
      "cell_type": "code",
      "source": [
        "# cargo el dataset donde voy a entrenar\n",
        "dataset <- fread(PARAM$input$dataset, stringsAsFactors = TRUE)"
      ],
      "metadata": {
        "id": "QyhsVXpFKRfg"
      },
      "execution_count": null,
      "outputs": []
    },
    {
      "cell_type": "code",
      "source": [
        "#--------------------------------------\n",
        "\n",
        "# paso la clase a binaria que tome valores {0,1}  enteros\n",
        "# set trabaja con la clase  POS = { BAJA+1, BAJA+2 }\n",
        "# esta estrategia es MUY importante\n",
        "dataset[, clase01 := ifelse(clase_ternaria %in% c(\"BAJA+2\", \"BAJA+1\"), 1L, 0L)]\n",
        "\n",
        "#--------------------------------------"
      ],
      "metadata": {
        "id": "O0sy-UENKUz1"
      },
      "execution_count": null,
      "outputs": []
    },
    {
      "cell_type": "code",
      "source": [
        "# los campos que se van a utilizar\n",
        "campos_buenos <- setdiff(colnames(dataset), c(\"clase_ternaria\", \"clase01\"))\n",
        "\n",
        "#--------------------------------------"
      ],
      "metadata": {
        "id": "4RhxOyOKKZjh"
      },
      "execution_count": null,
      "outputs": []
    },
    {
      "cell_type": "code",
      "source": [
        "# establezco donde entreno\n",
        "dataset[, train := 0L]\n",
        "dataset[foto_mes %in% PARAM$input$training, train := 1L]\n",
        "\n",
        "#--------------------------------------"
      ],
      "metadata": {
        "id": "sIE_CAKNKcLw"
      },
      "execution_count": null,
      "outputs": []
    },
    {
      "cell_type": "code",
      "source": [
        "#--------------------------------------\n",
        "# creo las carpetas donde van los resultados\n",
        "# creo la carpeta donde va el experimento\n",
        "dir.create(\"./exp/\", showWarnings = FALSE)\n",
        "dir.create(paste0(\"./exp/\", PARAM$experimento, \"/\"), showWarnings = FALSE)\n",
        "\n",
        "# Establezco el Working Directory DEL EXPERIMENTO\n",
        "setwd(paste0(\"./exp/\", PARAM$experimento, \"/\"))"
      ],
      "metadata": {
        "id": "hsa9RZVlKfz4"
      },
      "execution_count": null,
      "outputs": []
    },
    {
      "cell_type": "code",
      "source": [
        "# dejo los datos en el formato que necesita LightGBM\n",
        "dtrain <- lgb.Dataset(\n",
        "  data = data.matrix(dataset[train == 1L, campos_buenos, with = FALSE]),\n",
        "  label = dataset[train == 1L, clase01]\n",
        ")"
      ],
      "metadata": {
        "id": "Xm_sWMjIKkwQ"
      },
      "execution_count": null,
      "outputs": []
    },
    {
      "cell_type": "code",
      "source": [
        "# genero el modelo\n",
        "# estos hiperparametros  salieron de una laaarga Optmizacion Bayesiana\n",
        " modelo <- lgb.train(\n",
        "  data = dtrain,\n",
        "  param = list(\n",
        "    objective = \"binary\",\n",
        "    max_bin = PARAM$finalmodel$max_bin,\n",
        "    learning_rate = PARAM$finalmodel$learning_rate,\n",
        "    num_iterations = PARAM$finalmodel$num_iterations,\n",
        "    num_leaves = PARAM$finalmodel$num_leaves,\n",
        "    min_data_in_leaf = PARAM$finalmodel$min_data_in_leaf,\n",
        "    feature_fraction = PARAM$finalmodel$feature_fraction,\n",
        "    seed = PARAM$finalmodel$semilla\n",
        "  )\n",
        ")\n",
        "\n",
        "#--------------------------------------"
      ],
      "metadata": {
        "id": "slIjITfyKpXo"
      },
      "execution_count": 1,
      "outputs": []
    },
    {
      "cell_type": "code",
      "source": [
        "# aplico el modelo a los datos sin clase\n",
        "dapply <- dataset[foto_mes == PARAM$input$future]\n",
        "\n",
        "# aplico el modelo a los datos nuevos\n",
        "prediccion <- predict(\n",
        "  modelo,\n",
        "  data.matrix(dapply[, campos_buenos, with = FALSE])\n",
        ")"
      ],
      "metadata": {
        "id": "qySKVjgESWtN"
      },
      "execution_count": null,
      "outputs": []
    },
    {
      "cell_type": "code",
      "source": [
        "# genero la tabla de entrega\n",
        "tb_entrega <- dapply[, list(numero_de_cliente, foto_mes)]\n",
        "tb_entrega[, prob := prediccion]"
      ],
      "metadata": {
        "id": "5oxtNvN6g-cJ"
      },
      "execution_count": null,
      "outputs": []
    },
    {
      "cell_type": "code",
      "source": [
        "# grabo las probabilidad del modelo\n",
        "fwrite(tb_entrega,\n",
        "  file = \"prediccion.txt\",\n",
        "  sep = \"\\t\"\n",
        ")"
      ],
      "metadata": {
        "id": "5foi-Jr6g_AI"
      },
      "execution_count": null,
      "outputs": []
    },
    {
      "cell_type": "code",
      "source": [
        "# ordeno por probabilidad descendente\n",
        "setorder(tb_entrega, -prob)"
      ],
      "metadata": {
        "id": "YfkCLMgEhBCv"
      },
      "execution_count": null,
      "outputs": []
    },
    {
      "cell_type": "code",
      "source": [
        "# genero archivos con los  \"envios\" mejores\n",
        "# deben subirse \"inteligentemente\" a Kaggle para no malgastar submits\n",
        "# si la palabra inteligentemente no le significa nada aun\n",
        "# suba TODOS los archivos a Kaggle\n",
        "# espera a la siguiente clase sincronica en donde el tema sera explicado\n",
        "\n",
        "cortes <- seq(11500, 11500, by = 500)\n",
        "for (envios in cortes) {\n",
        "  tb_entrega[, Predicted := 0L]\n",
        "  tb_entrega[1:envios, Predicted := 1L]\n",
        "\n",
        "  fwrite(tb_entrega[, list(numero_de_cliente, Predicted)],\n",
        "    file = paste0(PARAM$experimento, \"_semilla_300779_\", envios, \".csv\"),\n",
        "    sep = \",\"\n",
        "  )\n",
        "}"
      ],
      "metadata": {
        "id": "dVNkn0EvhDO4"
      },
      "execution_count": null,
      "outputs": []
    }
  ]
}