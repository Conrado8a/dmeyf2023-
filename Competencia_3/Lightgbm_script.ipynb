{
  "cells": [
    {
      "cell_type": "code",
      "execution_count": null,
      "metadata": {
        "colab": {
          "base_uri": "https://localhost:8080/",
          "height": 129
        },
        "id": "rNy5KXu5rfJl",
        "outputId": "943ac02b-7ebf-484e-9fc5-3091db3ddc56"
      },
      "outputs": [
        {
          "output_type": "display_data",
          "data": {
            "text/html": [
              "<table class=\"dataframe\">\n",
              "<caption>A matrix: 2 × 6 of type dbl</caption>\n",
              "<thead>\n",
              "\t<tr><th></th><th scope=col>used</th><th scope=col>(Mb)</th><th scope=col>gc trigger</th><th scope=col>(Mb)</th><th scope=col>max used</th><th scope=col>(Mb)</th></tr>\n",
              "</thead>\n",
              "<tbody>\n",
              "\t<tr><th scope=row>Ncells</th><td> 863509</td><td>46.2</td><td>1413368</td><td>75.5</td><td>1413368</td><td>75.5</td></tr>\n",
              "\t<tr><th scope=row>Vcells</th><td>1594124</td><td>12.2</td><td>8388608</td><td>64.0</td><td>5106930</td><td>39.0</td></tr>\n",
              "</tbody>\n",
              "</table>\n"
            ],
            "text/markdown": "\nA matrix: 2 × 6 of type dbl\n\n| <!--/--> | used | (Mb) | gc trigger | (Mb) | max used | (Mb) |\n|---|---|---|---|---|---|---|\n| Ncells |  863509 | 46.2 | 1413368 | 75.5 | 1413368 | 75.5 |\n| Vcells | 1594124 | 12.2 | 8388608 | 64.0 | 5106930 | 39.0 |\n\n",
            "text/latex": "A matrix: 2 × 6 of type dbl\n\\begin{tabular}{r|llllll}\n  & used & (Mb) & gc trigger & (Mb) & max used & (Mb)\\\\\n\\hline\n\tNcells &  863509 & 46.2 & 1413368 & 75.5 & 1413368 & 75.5\\\\\n\tVcells & 1594124 & 12.2 & 8388608 & 64.0 & 5106930 & 39.0\\\\\n\\end{tabular}\n",
            "text/plain": [
              "       used    (Mb) gc trigger (Mb) max used (Mb)\n",
              "Ncells  863509 46.2 1413368    75.5 1413368  75.5\n",
              "Vcells 1594124 12.2 8388608    64.0 5106930  39.0"
            ]
          },
          "metadata": {}
        }
      ],
      "source": [
        "# Este script esta pensado para correr en Google Cloud\n",
        "#   8 vCPU\n",
        "#  32 GB memoria RAM\n",
        "\n",
        "# se entrena con clase_binaria2  POS =  { BAJA+1, BAJA+2 }\n",
        "# Optimizacion Bayesiana de hiperparametros de  lightgbm,\n",
        "# con el metodo TRADICIONAL de los hiperparametros originales de lightgbm\n",
        "# 5-fold cross validation el cual es muuuy lento\n",
        "# la probabilidad de corte es un hiperparametro\n",
        "\n",
        "# limpio la memoria\n",
        "rm(list = ls()) # remove all objects\n",
        "gc() # garbage collection"
      ]
    },
    {
      "cell_type": "code",
      "execution_count": 1,
      "metadata": {
        "id": "uh3rElyGsMKD"
      },
      "outputs": [],
      "source": [
        "require(\"data.table\")\n",
        "require(\"rlist\")\n",
        "require(\"lightgbm\")"
      ]
    },
    {
      "cell_type": "markdown",
      "metadata": {
        "id": "bsVY0AC5ML3X"
      },
      "source": [
        "Script Lightgbm"
      ]
    },
    {
      "cell_type": "code",
      "execution_count": null,
      "metadata": {
        "id": "ctj2lQFYMNql"
      },
      "outputs": [],
      "source": [
        "# defino los parametros de la corrida, en una lista, la variable global  PARAM\n",
        "#  muy pronto esto se leera desde un archivo formato .yaml\n",
        "PARAM <- list()\n",
        "PARAM$experimento <- \"KA8240\"\n",
        "\n",
        "PARAM$input$dataset <- \"dataset_201902_a_202109_undersampling55_lags2_ylags3.csv\""
      ]
    },
    {
      "cell_type": "code",
      "execution_count": null,
      "metadata": {
        "id": "LqNbQaSRMYgn"
      },
      "outputs": [],
      "source": [
        "# meses donde se entrena el modelo\n",
        "PARAM$input$training <- c(201902,201903,201904,201905,201906,201907,201908,201909,201910,201911,201912,202010,202011,202012,202101,202102,202103,202104,202105,202106,202107)\n",
        "PARAM$input$future <- c(202109) # meses donde se aplica el modelo\n",
        "\n",
        "PARAM$finalmodel$semilla <- 300193\n",
        "\n",
        "# hiperparametros intencionalmente NO optimos\n",
        "PARAM$finalmodel$optim$num_iterations <- 806\n",
        "PARAM$finalmodel$optim$learning_rate <- 0.0200717838994269\n",
        "PARAM$finalmodel$optim$feature_fraction <- 0.728233124850004\n",
        "PARAM$finalmodel$optim$min_data_in_leaf <- 49972\n",
        "PARAM$finalmodel$optim$num_leaves <- 8\n",
        "\n",
        "#300001 ok\n",
        "#300017 ok\n",
        "#300023 ok\n",
        "#300193 ok\n",
        "#200779 ok\n",
        "#300779 ok\n",
        "#357779 ok\n",
        "#507779 ok\n",
        "#557779 ok"
      ]
    },
    {
      "cell_type": "code",
      "execution_count": null,
      "metadata": {
        "id": "mLLfOF4zMmzN"
      },
      "outputs": [],
      "source": [
        "# Hiperparametros FIJOS de  lightgbm\n",
        "PARAM$finalmodel$lgb_basicos <- list(\n",
        "  boosting = \"gbdt\", # puede ir  dart  , ni pruebe random_forest\n",
        "  objective = \"binary\",\n",
        "  metric = \"custom\",\n",
        "  first_metric_only = TRUE,\n",
        "  boost_from_average = TRUE,\n",
        "  feature_pre_filter = FALSE,\n",
        "  force_row_wise = TRUE, # para reducir warnings\n",
        "  verbosity = -100,\n",
        "  max_depth = -1L, # -1 significa no limitar,  por ahora lo dejo fijo\n",
        "  min_gain_to_split = 0.0, # min_gain_to_split >= 0.0\n",
        "  min_sum_hessian_in_leaf = 0.001, #  min_sum_hessian_in_leaf >= 0.0\n",
        "  lambda_l1 = 0.0, # lambda_l1 >= 0.0\n",
        "  lambda_l2 = 0.0, # lambda_l2 >= 0.0\n",
        "  max_bin = 31L, # lo debo dejar fijo, no participa de la BO\n",
        "\n",
        "  bagging_fraction = 1.0, # 0.0 < bagging_fraction <= 1.0\n",
        "  pos_bagging_fraction = 1.0, # 0.0 < pos_bagging_fraction <= 1.0\n",
        "  neg_bagging_fraction = 1.0, # 0.0 < neg_bagging_fraction <= 1.0\n",
        "  is_unbalance = FALSE, #\n",
        "  scale_pos_weight = 1.0, # scale_pos_weight > 0.0\n",
        "\n",
        "  drop_rate = 0.1, # 0.0 < neg_bagging_fraction <= 1.0\n",
        "  max_drop = 50, # <=0 means no limit\n",
        "  skip_drop = 0.5, # 0.0 <= skip_drop <= 1.0\n",
        "\n",
        "  extra_trees = TRUE, # Magic Sauce\n",
        "\n",
        "  seed = PARAM$finalmodel$semilla\n",
        ")"
      ]
    },
    {
      "cell_type": "code",
      "execution_count": null,
      "metadata": {
        "id": "aA7Tydz5Mrkl"
      },
      "outputs": [],
      "source": [
        "#------------------------------------------------------------------------------\n",
        "#------------------------------------------------------------------------------\n",
        "# Aqui empieza el programa\n",
        "#setwd(\"~/buckets/b1\")\n",
        "\n",
        "# cargo el dataset donde voy a entrenar\n",
        "dataset <- fread(PARAM$input$dataset, stringsAsFactors = TRUE)\n",
        "\n",
        "# Elimino columnas duplicadas por el join en el sql\n",
        "\n",
        "dataset <- subset(dataset, select = -foto_mes_2)\n",
        "dataset <- subset(dataset, select = -numero_de_cliente_2)\n",
        "\n",
        "# Catastrophe Analysis  -------------------------------------------------------\n",
        "# deben ir cosas de este estilo\n",
        "#   dataset[foto_mes == 202006, active_quarter := NA]\n",
        "\n",
        "# Data Drifting\n",
        "# por ahora, no hago nada\n",
        "\n",
        "\n",
        "# Feature Engineering Historico  ----------------------------------------------\n",
        "#   aqui deben calcularse los  lags y  lag_delta\n",
        "#   Sin lags no hay paraiso ! corta la bocha\n",
        "#   https://rdrr.io/cran/data.table/man/shift.html"
      ]
    },
    {
      "cell_type": "code",
      "execution_count": null,
      "metadata": {
        "id": "mmxsNXKqMtyz"
      },
      "outputs": [],
      "source": [
        "#--------------------------------------\n",
        "\n",
        "# paso la clase a binaria que tome valores {0,1}  enteros\n",
        "# set trabaja con la clase  POS = { BAJA+1, BAJA+2 }\n",
        "# esta estrategia es MUY importante\n",
        "dataset[, clase01 := ifelse(clase_ternaria %in% c(\"BAJA+2\", \"BAJA+1\"), 1L, 0L)]\n",
        "\n",
        "#--------------------------------------\n",
        "\n",
        "# los campos que se van a utilizar\n",
        "campos_buenos <- setdiff(colnames(dataset), c(\"clase_ternaria\", \"clase01\"))\n",
        "\n",
        "#--------------------------------------\n",
        "\n",
        "\n",
        "# establezco donde entreno\n",
        "dataset[, train := 0L]\n",
        "dataset[foto_mes %in% PARAM$input$training, train := 1L]"
      ]
    },
    {
      "cell_type": "code",
      "execution_count": null,
      "metadata": {
        "id": "rte5L6hzMwIf"
      },
      "outputs": [],
      "source": [
        "#--------------------------------------\n",
        "# creo las carpetas donde van los resultados\n",
        "# creo la carpeta donde va el experimento\n",
        "dir.create(\"./exp/\", showWarnings = FALSE)\n",
        "dir.create(paste0(\"./exp/\", PARAM$experimento, \"/\"), showWarnings = FALSE)\n",
        "\n",
        "# Establezco el Working Directory DEL EXPERIMENTO\n",
        "setwd(paste0(\"./exp/\", PARAM$experimento, \"/\"))\n"
      ]
    },
    {
      "cell_type": "code",
      "execution_count": null,
      "metadata": {
        "colab": {
          "base_uri": "https://localhost:8080/"
        },
        "id": "yRADYssFMyNj",
        "outputId": "90e5a102-68f5-45fa-b795-ad169fa714fa"
      },
      "outputs": [
        {
          "output_type": "stream",
          "name": "stdout",
          "text": [
            "[LightGBM] [Warning] verbosity is set=-100, verbose=1 will be ignored. Current value: verbosity=-100\n"
          ]
        }
      ],
      "source": [
        "# dejo los datos en el formato que necesita LightGBM\n",
        "dtrain <- lgb.Dataset(\n",
        "  data = data.matrix(dataset[train == 1L, campos_buenos, with = FALSE]),\n",
        "  label = dataset[train == 1L, clase01]\n",
        ")\n",
        "\n",
        "\n",
        "# genero el modelo\n",
        "param_completo <- c(PARAM$finalmodel$lgb_basicos,\n",
        "  PARAM$finalmodel$optim)\n",
        "\n",
        "modelo <- lgb.train(\n",
        "  data = dtrain,\n",
        "  param = param_completo,\n",
        ")\n",
        "\n",
        "#--------------------------------------\n",
        "# ahora imprimo la importancia de variables\n",
        "tb_importancia <- as.data.table(lgb.importance(modelo))\n",
        "archivo_importancia <- \"impo.txt\"\n",
        "\n",
        "fwrite(tb_importancia,\n",
        "  file = archivo_importancia,\n",
        "  sep = \"\\t\"\n",
        ")\n",
        "\n",
        "#--------------------------------------"
      ]
    },
    {
      "cell_type": "code",
      "execution_count": null,
      "metadata": {
        "id": "7VZlQV5rM1I6"
      },
      "outputs": [],
      "source": [
        "# aplico el modelo a los datos sin clase\n",
        "dapply <- dataset[foto_mes == PARAM$input$future]"
      ]
    },
    {
      "cell_type": "code",
      "execution_count": null,
      "metadata": {
        "id": "tKYn1V0fM2zR"
      },
      "outputs": [],
      "source": [
        "# aplico el modelo a los datos nuevos\n",
        "prediccion <- predict(\n",
        "  modelo,\n",
        "  data.matrix(dapply[, campos_buenos, with = FALSE])\n",
        ")"
      ]
    },
    {
      "cell_type": "code",
      "execution_count": null,
      "metadata": {
        "id": "ArDLCYUgM4d7"
      },
      "outputs": [],
      "source": [
        "# genero la tabla de entrega\n",
        "tb_entrega <- dapply[, list(numero_de_cliente, foto_mes)]\n",
        "tb_entrega[, prob := prediccion]\n",
        "\n",
        "# grabo las probabilidad del modelo\n",
        "fwrite(tb_entrega,\n",
        "  file = \"prediccion.txt\",\n",
        "  sep = \"\\t\"\n",
        ")\n",
        "\n",
        "# ordeno por probabilidad descendente\n",
        "setorder(tb_entrega, -prob)"
      ]
    },
    {
      "cell_type": "code",
      "execution_count": null,
      "metadata": {
        "colab": {
          "base_uri": "https://localhost:8080/"
        },
        "id": "VRPD8n9LM6YM",
        "outputId": "02afa4c7-f00b-4f20-cb6d-e509261b4731"
      },
      "outputs": [
        {
          "output_type": "stream",
          "name": "stdout",
          "text": [
            "\n",
            "\n",
            "La generacion de los archivos para Kaggle ha terminado\n"
          ]
        }
      ],
      "source": [
        "# genero archivos con los  \"envios\" mejores\n",
        "# deben subirse \"inteligentemente\" a Kaggle para no malgastar submits\n",
        "# si la palabra inteligentemente no le significa nada aun\n",
        "# suba TODOS los archivos a Kaggle\n",
        "# espera a la siguiente clase sincronica en donde el tema sera explicado\n",
        "\n",
        "cortes <- seq(7000, 7750, by = 250)\n",
        "for (envios in cortes) {\n",
        "  tb_entrega[, Predicted := 0L]\n",
        "  tb_entrega[1:envios, Predicted := 1L]\n",
        "\n",
        "  fwrite(tb_entrega[, list(numero_de_cliente, Predicted)],\n",
        "    file = paste0(PARAM$experimento, \"_\", envios, \".csv\"),\n",
        "    sep = \",\"\n",
        "  )\n",
        "}\n",
        "\n",
        "cat(\"\\n\\nLa generacion de los archivos para Kaggle ha terminado\\n\")"
      ]
    }
  ],
  "metadata": {
    "colab": {
      "machine_shape": "hm",
      "provenance": []
    },
    "kernelspec": {
      "display_name": "R",
      "name": "ir"
    },
    "language_info": {
      "name": "R"
    }
  },
  "nbformat": 4,
  "nbformat_minor": 0
}